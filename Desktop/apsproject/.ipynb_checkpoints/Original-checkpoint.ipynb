{
 "cells": [
  {
   "cell_type": "code",
   "execution_count": 1,
   "metadata": {},
   "outputs": [
    {
     "data": {
      "text/html": [
       "<script type=\"text/javascript\">window.PlotlyConfig = {MathJaxConfig: 'local'};</script><script type=\"text/javascript\">if (window.MathJax) {MathJax.Hub.Config({SVG: {font: \"STIX-Web\"}});}</script><script>requirejs.config({paths: { 'plotly': ['https://cdn.plot.ly/plotly-latest.min']},});if(!window._Plotly) {require(['plotly'],function(plotly) {window._Plotly=plotly;});}</script>"
      ],
      "text/vnd.plotly.v1+html": [
       "<script type=\"text/javascript\">window.PlotlyConfig = {MathJaxConfig: 'local'};</script><script type=\"text/javascript\">if (window.MathJax) {MathJax.Hub.Config({SVG: {font: \"STIX-Web\"}});}</script><script>requirejs.config({paths: { 'plotly': ['https://cdn.plot.ly/plotly-latest.min']},});if(!window._Plotly) {require(['plotly'],function(plotly) {window._Plotly=plotly;});}</script>"
      ]
     },
     "metadata": {},
     "output_type": "display_data"
    }
   ],
   "source": [
    "import plotly as py\n",
    "import plotly.graph_objs as go\n",
    "import ipywidgets as widgets\n",
    "import numpy as np\n",
    "from scipy import special\n",
    "\n",
    "py.offline.init_notebook_mode(connected=True)"
   ]
  },
  {
   "cell_type": "code",
   "execution_count": 32,
   "metadata": {},
   "outputs": [
    {
     "data": {
      "application/vnd.plotly.v1+json": {
       "data": [
        {
         "mode": "lines",
         "name": "Binary Search Tree",
         "type": "scatter",
         "uid": "2f886b1a-fc1c-455a-880b-4190f5598f62",
         "x": [
          1000,
          10000,
          100000,
          1000000,
          10000000
         ],
         "y": [
          0.00285,
          0.030174,
          0.317224,
          3.7748000000000004,
          44.2377
         ]
        },
        {
         "mode": "lines",
         "name": "Splay Tree",
         "type": "scatter",
         "uid": "887eff86-c4a6-45ab-8e84-6b3cfc1f404c",
         "x": [
          1000,
          10000,
          100000,
          1000000,
          10000000
         ],
         "y": [
          0.00319,
          0.031763,
          0.3634,
          4.5341000000000005,
          51.074400000000004
         ]
        }
       ],
       "layout": {
        "title": "<b>INSERTION OF RANDOM NODES</b>",
        "xaxis": {
         "title": "<i>Number of nodes</i>",
         "type": "category"
        },
        "yaxis": {
         "title": "<i>Time Taken(sec)</i>"
        }
       }
      },
      "text/html": [
       "<div id=\"123b272d-55ed-4b10-94bb-3f24b9b79d4a\" style=\"height: 525px; width: 100%;\" class=\"plotly-graph-div\"></div><script type=\"text/javascript\">require([\"plotly\"], function(Plotly) { window.PLOTLYENV=window.PLOTLYENV || {};window.PLOTLYENV.BASE_URL=\"https://plot.ly\";Plotly.newPlot(\"123b272d-55ed-4b10-94bb-3f24b9b79d4a\", [{\"mode\": \"lines\", \"name\": \"Binary Search Tree\", \"x\": [1000, 10000, 100000, 1000000, 10000000], \"y\": [0.00285, 0.030174, 0.317224, 3.7748000000000004, 44.2377], \"type\": \"scatter\", \"uid\": \"2f886b1a-fc1c-455a-880b-4190f5598f62\"}, {\"mode\": \"lines\", \"name\": \"Splay Tree\", \"x\": [1000, 10000, 100000, 1000000, 10000000], \"y\": [0.00319, 0.031763, 0.3634, 4.5341000000000005, 51.074400000000004], \"type\": \"scatter\", \"uid\": \"887eff86-c4a6-45ab-8e84-6b3cfc1f404c\"}], {\"title\": \"<b>INSERTION OF RANDOM NODES</b>\", \"xaxis\": {\"title\": \"<i>Number of nodes</i>\", \"type\": \"category\"}, \"yaxis\": {\"title\": \"<i>Time Taken(sec)</i>\"}}, {\"showLink\": true, \"linkText\": \"Export to plot.ly\"})});</script><script type=\"text/javascript\">window.addEventListener(\"resize\", function(){Plotly.Plots.resize(document.getElementById(\"123b272d-55ed-4b10-94bb-3f24b9b79d4a\"));});</script>"
      ],
      "text/vnd.plotly.v1+html": [
       "<div id=\"123b272d-55ed-4b10-94bb-3f24b9b79d4a\" style=\"height: 525px; width: 100%;\" class=\"plotly-graph-div\"></div><script type=\"text/javascript\">require([\"plotly\"], function(Plotly) { window.PLOTLYENV=window.PLOTLYENV || {};window.PLOTLYENV.BASE_URL=\"https://plot.ly\";Plotly.newPlot(\"123b272d-55ed-4b10-94bb-3f24b9b79d4a\", [{\"mode\": \"lines\", \"name\": \"Binary Search Tree\", \"x\": [1000, 10000, 100000, 1000000, 10000000], \"y\": [0.00285, 0.030174, 0.317224, 3.7748000000000004, 44.2377], \"type\": \"scatter\", \"uid\": \"2f886b1a-fc1c-455a-880b-4190f5598f62\"}, {\"mode\": \"lines\", \"name\": \"Splay Tree\", \"x\": [1000, 10000, 100000, 1000000, 10000000], \"y\": [0.00319, 0.031763, 0.3634, 4.5341000000000005, 51.074400000000004], \"type\": \"scatter\", \"uid\": \"887eff86-c4a6-45ab-8e84-6b3cfc1f404c\"}], {\"title\": \"<b>INSERTION OF RANDOM NODES</b>\", \"xaxis\": {\"title\": \"<i>Number of nodes</i>\", \"type\": \"category\"}, \"yaxis\": {\"title\": \"<i>Time Taken(sec)</i>\"}}, {\"showLink\": true, \"linkText\": \"Export to plot.ly\"})});</script><script type=\"text/javascript\">window.addEventListener(\"resize\", function(){Plotly.Plots.resize(document.getElementById(\"123b272d-55ed-4b10-94bb-3f24b9b79d4a\"));});</script>"
      ]
     },
     "metadata": {},
     "output_type": "display_data"
    }
   ],
   "source": [
    "x1 = [1000,10000,100000,1000000,10000000]\n",
    "y1 = [2.85,30.174,317.224,3774.8,44237.7]\n",
    "y2 = [3.19,31.763,363.4,4534.1,51074.4]\n",
    "y1 = [k/1000 for k in y1]\n",
    "y2 = [k/1000 for k in y2]\n",
    "layout = go.Layout(\n",
    "            title='<b>INSERTION OF RANDOM NODES</b>',\n",
    "            yaxis=dict(\n",
    "                title='<i>Time Taken(sec)</i>'\n",
    "            ),\n",
    "            xaxis=dict(\n",
    "                title='<i>Number of nodes</i>',\n",
    "                type='category'\n",
    "            )\n",
    "        )\n",
    "trace1 = go.Scatter(\n",
    "            x=x1,\n",
    "            y=y1,\n",
    "            mode='lines',\n",
    "            name='Binary Search Tree'\n",
    "#             line=dict(\n",
    "#                 shape='spline'\n",
    "#             )\n",
    "        )\n",
    "trace2 = go.Scatter(\n",
    "            x=x1,\n",
    "            y=y2,\n",
    "            mode='lines',\n",
    "            name='Splay Tree'\n",
    "#             line=dict(\n",
    "#                 shape='spline'\n",
    "#             )\n",
    "        )\n",
    "fig = go.Figure(data=[trace1,trace2], layout=layout)\n",
    "py.offline.iplot(fig)"
   ]
  },
  {
   "cell_type": "code",
   "execution_count": 37,
   "metadata": {},
   "outputs": [
    {
     "data": {
      "application/vnd.plotly.v1+json": {
       "data": [
        {
         "mode": "lines",
         "name": "Binary Search Tree",
         "type": "scatter",
         "uid": "f7c8a2c9-8f13-4094-b6ea-9364c14b43d7",
         "x": [
          1000,
          10000,
          100000
         ],
         "y": [
          0.00819,
          0.53787,
          76.2342
         ]
        },
        {
         "mode": "lines",
         "name": "Splay Tree",
         "type": "scatter",
         "uid": "60ce2132-9d84-4cf6-a308-087128cfd21c",
         "x": [
          1000,
          10000,
          100000,
          1000000
         ],
         "y": [
          0.00273,
          0.025929999999999998,
          0.29921,
          3.31019
         ]
        }
       ],
       "layout": {
        "title": "<b>INSERTION OF SKEWED NODES</b>",
        "xaxis": {
         "title": "<i>Number of nodes</i>",
         "type": "category"
        },
        "yaxis": {
         "title": "<i>Time Taken(sec)</i>"
        }
       }
      },
      "text/html": [
       "<div id=\"11c2af54-255c-4a84-a02d-bbc75a5b5534\" style=\"height: 525px; width: 100%;\" class=\"plotly-graph-div\"></div><script type=\"text/javascript\">require([\"plotly\"], function(Plotly) { window.PLOTLYENV=window.PLOTLYENV || {};window.PLOTLYENV.BASE_URL=\"https://plot.ly\";Plotly.newPlot(\"11c2af54-255c-4a84-a02d-bbc75a5b5534\", [{\"mode\": \"lines\", \"name\": \"Binary Search Tree\", \"x\": [1000, 10000, 100000], \"y\": [0.00819, 0.53787, 76.2342], \"type\": \"scatter\", \"uid\": \"f7c8a2c9-8f13-4094-b6ea-9364c14b43d7\"}, {\"mode\": \"lines\", \"name\": \"Splay Tree\", \"x\": [1000, 10000, 100000, 1000000], \"y\": [0.00273, 0.025929999999999998, 0.29921, 3.31019], \"type\": \"scatter\", \"uid\": \"60ce2132-9d84-4cf6-a308-087128cfd21c\"}], {\"title\": \"<b>INSERTION OF SKEWED NODES</b>\", \"xaxis\": {\"title\": \"<i>Number of nodes</i>\", \"type\": \"category\"}, \"yaxis\": {\"title\": \"<i>Time Taken(sec)</i>\"}}, {\"showLink\": true, \"linkText\": \"Export to plot.ly\"})});</script><script type=\"text/javascript\">window.addEventListener(\"resize\", function(){Plotly.Plots.resize(document.getElementById(\"11c2af54-255c-4a84-a02d-bbc75a5b5534\"));});</script>"
      ],
      "text/vnd.plotly.v1+html": [
       "<div id=\"11c2af54-255c-4a84-a02d-bbc75a5b5534\" style=\"height: 525px; width: 100%;\" class=\"plotly-graph-div\"></div><script type=\"text/javascript\">require([\"plotly\"], function(Plotly) { window.PLOTLYENV=window.PLOTLYENV || {};window.PLOTLYENV.BASE_URL=\"https://plot.ly\";Plotly.newPlot(\"11c2af54-255c-4a84-a02d-bbc75a5b5534\", [{\"mode\": \"lines\", \"name\": \"Binary Search Tree\", \"x\": [1000, 10000, 100000], \"y\": [0.00819, 0.53787, 76.2342], \"type\": \"scatter\", \"uid\": \"f7c8a2c9-8f13-4094-b6ea-9364c14b43d7\"}, {\"mode\": \"lines\", \"name\": \"Splay Tree\", \"x\": [1000, 10000, 100000, 1000000], \"y\": [0.00273, 0.025929999999999998, 0.29921, 3.31019], \"type\": \"scatter\", \"uid\": \"60ce2132-9d84-4cf6-a308-087128cfd21c\"}], {\"title\": \"<b>INSERTION OF SKEWED NODES</b>\", \"xaxis\": {\"title\": \"<i>Number of nodes</i>\", \"type\": \"category\"}, \"yaxis\": {\"title\": \"<i>Time Taken(sec)</i>\"}}, {\"showLink\": true, \"linkText\": \"Export to plot.ly\"})});</script><script type=\"text/javascript\">window.addEventListener(\"resize\", function(){Plotly.Plots.resize(document.getElementById(\"11c2af54-255c-4a84-a02d-bbc75a5b5534\"));});</script>"
      ]
     },
     "metadata": {},
     "output_type": "display_data"
    }
   ],
   "source": [
    "x2 = [1000,10000,100000,1000000]\n",
    "x1 = [1000,10000,100000]\n",
    "y1 = [8.19,537.87,76234.2]\n",
    "y2 = [2.73,25.93,299.21,3310.19]\n",
    "y1 = [k/1000 for k in y1]\n",
    "y2 = [k/1000 for k in y2]\n",
    "layout = go.Layout(\n",
    "            title='<b>INSERTION OF SKEWED NODES</b>',\n",
    "            yaxis=dict(\n",
    "                title='<i>Time Taken(sec)</i>'\n",
    "            ),\n",
    "            xaxis=dict(\n",
    "                title='<i>Number of nodes</i>',\n",
    "                type='category'\n",
    "            )\n",
    "        )\n",
    "trace1 = go.Scatter(\n",
    "            x=x1,\n",
    "            y=y1,\n",
    "            mode='lines',\n",
    "            name='Binary Search Tree'\n",
    "        )\n",
    "trace2 = go.Scatter(\n",
    "            x=x2,\n",
    "            y=y2,\n",
    "            mode='lines',\n",
    "            name='Splay Tree'\n",
    "        )\n",
    "fig = go.Figure(data=[trace1,trace2], layout=layout)\n",
    "py.offline.iplot(fig)"
   ]
  },
  {
   "cell_type": "code",
   "execution_count": 50,
   "metadata": {},
   "outputs": [
    {
     "data": {
      "application/vnd.plotly.v1+json": {
       "data": [
        {
         "mode": "lines",
         "name": "First search in BST",
         "type": "scatter",
         "uid": "41a53fe7-fb59-49c8-951e-209fd46f40e4",
         "x": [
          1000,
          10000,
          100000,
          1000000,
          10000000
         ],
         "y": [
          0.00675,
          0.0075,
          0.01075,
          0.011,
          0.01225
         ]
        },
        {
         "mode": "lines",
         "name": "Second search in BST",
         "type": "scatter",
         "uid": "a0fc6d07-3957-469c-b737-b18287d0709f",
         "x": [
          1000,
          10000,
          100000,
          1000000,
          10000000
         ],
         "y": [
          0.006,
          0.00725,
          0.01,
          0.0105,
          0.012
         ]
        },
        {
         "mode": "lines",
         "name": "First search in Splay Tree",
         "type": "scatter",
         "uid": "05576472-9b70-4d7e-b757-11205fed46eb",
         "x": [
          1000,
          10000,
          100000,
          1000000,
          10000000
         ],
         "y": [
          0.00925,
          0.0105,
          0.01125,
          0.012,
          0.014
         ]
        },
        {
         "mode": "lines",
         "name": "Second search in Splay Tree",
         "type": "scatter",
         "uid": "2ec32a2b-e99a-46d6-bf02-5db97663c894",
         "x": [
          1000,
          10000,
          100000,
          1000000,
          10000000
         ],
         "y": [
          0.007,
          0.00625,
          0.005,
          0.00475,
          0.0065
         ]
        }
       ],
       "layout": {
        "title": "<b>SEARCH IN RANDOM BUILT TREE</b>",
        "xaxis": {
         "title": "<i>Number of nodes</i>",
         "type": "category"
        },
        "yaxis": {
         "title": "<i>Time Taken(sec)</i>"
        }
       }
      },
      "text/html": [
       "<div id=\"6718cba9-2add-4cb6-84cf-42226d7ad251\" style=\"height: 525px; width: 100%;\" class=\"plotly-graph-div\"></div><script type=\"text/javascript\">require([\"plotly\"], function(Plotly) { window.PLOTLYENV=window.PLOTLYENV || {};window.PLOTLYENV.BASE_URL=\"https://plot.ly\";Plotly.newPlot(\"6718cba9-2add-4cb6-84cf-42226d7ad251\", [{\"mode\": \"lines\", \"name\": \"First search in BST\", \"x\": [1000, 10000, 100000, 1000000, 10000000], \"y\": [0.00675, 0.0075, 0.01075, 0.011, 0.01225], \"type\": \"scatter\", \"uid\": \"41a53fe7-fb59-49c8-951e-209fd46f40e4\"}, {\"mode\": \"lines\", \"name\": \"Second search in BST\", \"x\": [1000, 10000, 100000, 1000000, 10000000], \"y\": [0.006, 0.00725, 0.01, 0.0105, 0.012], \"type\": \"scatter\", \"uid\": \"a0fc6d07-3957-469c-b737-b18287d0709f\"}, {\"mode\": \"lines\", \"name\": \"First search in Splay Tree\", \"x\": [1000, 10000, 100000, 1000000, 10000000], \"y\": [0.00925, 0.0105, 0.01125, 0.012, 0.014], \"type\": \"scatter\", \"uid\": \"05576472-9b70-4d7e-b757-11205fed46eb\"}, {\"mode\": \"lines\", \"name\": \"Second search in Splay Tree\", \"x\": [1000, 10000, 100000, 1000000, 10000000], \"y\": [0.007, 0.00625, 0.005, 0.00475, 0.0065], \"type\": \"scatter\", \"uid\": \"2ec32a2b-e99a-46d6-bf02-5db97663c894\"}], {\"title\": \"<b>SEARCH IN RANDOM BUILT TREE</b>\", \"xaxis\": {\"title\": \"<i>Number of nodes</i>\", \"type\": \"category\"}, \"yaxis\": {\"title\": \"<i>Time Taken(sec)</i>\"}}, {\"showLink\": true, \"linkText\": \"Export to plot.ly\"})});</script><script type=\"text/javascript\">window.addEventListener(\"resize\", function(){Plotly.Plots.resize(document.getElementById(\"6718cba9-2add-4cb6-84cf-42226d7ad251\"));});</script>"
      ],
      "text/vnd.plotly.v1+html": [
       "<div id=\"6718cba9-2add-4cb6-84cf-42226d7ad251\" style=\"height: 525px; width: 100%;\" class=\"plotly-graph-div\"></div><script type=\"text/javascript\">require([\"plotly\"], function(Plotly) { window.PLOTLYENV=window.PLOTLYENV || {};window.PLOTLYENV.BASE_URL=\"https://plot.ly\";Plotly.newPlot(\"6718cba9-2add-4cb6-84cf-42226d7ad251\", [{\"mode\": \"lines\", \"name\": \"First search in BST\", \"x\": [1000, 10000, 100000, 1000000, 10000000], \"y\": [0.00675, 0.0075, 0.01075, 0.011, 0.01225], \"type\": \"scatter\", \"uid\": \"41a53fe7-fb59-49c8-951e-209fd46f40e4\"}, {\"mode\": \"lines\", \"name\": \"Second search in BST\", \"x\": [1000, 10000, 100000, 1000000, 10000000], \"y\": [0.006, 0.00725, 0.01, 0.0105, 0.012], \"type\": \"scatter\", \"uid\": \"a0fc6d07-3957-469c-b737-b18287d0709f\"}, {\"mode\": \"lines\", \"name\": \"First search in Splay Tree\", \"x\": [1000, 10000, 100000, 1000000, 10000000], \"y\": [0.00925, 0.0105, 0.01125, 0.012, 0.014], \"type\": \"scatter\", \"uid\": \"05576472-9b70-4d7e-b757-11205fed46eb\"}, {\"mode\": \"lines\", \"name\": \"Second search in Splay Tree\", \"x\": [1000, 10000, 100000, 1000000, 10000000], \"y\": [0.007, 0.00625, 0.005, 0.00475, 0.0065], \"type\": \"scatter\", \"uid\": \"2ec32a2b-e99a-46d6-bf02-5db97663c894\"}], {\"title\": \"<b>SEARCH IN RANDOM BUILT TREE</b>\", \"xaxis\": {\"title\": \"<i>Number of nodes</i>\", \"type\": \"category\"}, \"yaxis\": {\"title\": \"<i>Time Taken(sec)</i>\"}}, {\"showLink\": true, \"linkText\": \"Export to plot.ly\"})});</script><script type=\"text/javascript\">window.addEventListener(\"resize\", function(){Plotly.Plots.resize(document.getElementById(\"6718cba9-2add-4cb6-84cf-42226d7ad251\"));});</script>"
      ]
     },
     "metadata": {},
     "output_type": "display_data"
    }
   ],
   "source": [
    "x1 = [1000,10000,100000,1000000,10000000]\n",
    "y1 = [6.75,7.5,10.75,11,12.25]\n",
    "y2 = [9.25,10.5,11.25,12,14]\n",
    "y3 = [6,7.25,10,10.5,12]\n",
    "y4 = [7,6.25,5,4.75,6.5]\n",
    "y1 = [k/1000 for k in y1]\n",
    "y2 = [k/1000 for k in y2]\n",
    "y3 = [k/1000 for k in y3]\n",
    "y4 = [k/1000 for k in y4]\n",
    "layout = go.Layout(\n",
    "            title='<b>SEARCH IN RANDOM BUILT TREE</b>',\n",
    "            yaxis=dict(\n",
    "                title='<i>Time Taken(sec)</i>'\n",
    "            ),\n",
    "            xaxis=dict(\n",
    "                title='<i>Number of nodes</i>',\n",
    "                type='category'\n",
    "            )\n",
    "        )\n",
    "trace1 = go.Scatter(\n",
    "            x=x1,\n",
    "            y=y1,\n",
    "            mode='lines',\n",
    "            name='First search in BST'\n",
    "        )\n",
    "trace2 = go.Scatter(\n",
    "            x=x1,\n",
    "            y=y2,\n",
    "            mode='lines',\n",
    "            name='First search in Splay Tree'\n",
    "        )\n",
    "trace3 = go.Scatter(\n",
    "            x=x1,\n",
    "            y=y3,\n",
    "            mode='lines',\n",
    "            name='Second search in BST'\n",
    "        )\n",
    "trace4 = go.Scatter(\n",
    "            x=x1,\n",
    "            y=y4,\n",
    "            mode='lines',\n",
    "            name='Second search in Splay Tree'\n",
    "        )\n",
    "fig = go.Figure(data=[trace1,trace3,trace2,trace4], layout=layout)\n",
    "py.offline.iplot(fig)"
   ]
  },
  {
   "cell_type": "code",
   "execution_count": 55,
   "metadata": {},
   "outputs": [
    {
     "data": {
      "application/vnd.plotly.v1+json": {
       "data": [
        {
         "mode": "lines",
         "name": "First search in BST",
         "type": "scatter",
         "uid": "0218f57d-9b99-43f9-83e5-9e915c085e2b",
         "x": [
          1000,
          10000,
          100000
         ],
         "y": [
          0.0105,
          0.09025,
          0.947
         ]
        },
        {
         "mode": "lines",
         "name": "Second search in BST",
         "type": "scatter",
         "uid": "361e5669-99a2-41f4-864a-2ff4fdb1a764",
         "x": [
          1000,
          10000,
          100000
         ],
         "y": [
          0.0105,
          0.09275,
          1.1
         ]
        },
        {
         "mode": "lines",
         "name": "First search in Splay Tree",
         "type": "scatter",
         "uid": "32414707-3c84-4d91-b695-44daf7d797c6",
         "x": [
          1000,
          10000,
          100000,
          1000000
         ],
         "y": [
          0.024,
          0.172,
          1.538,
          19.14
         ]
        },
        {
         "mode": "lines",
         "name": "Second search in Splay Tree",
         "type": "scatter",
         "uid": "36426788-3ca4-412f-a3ac-6999219e6b54",
         "x": [
          1000,
          10000,
          100000,
          1000000
         ],
         "y": [
          0.0075,
          0.007,
          0.0075,
          0.00625
         ]
        }
       ],
       "layout": {
        "title": "<b>SEARCH IN SKEWED BUILT TREE</b>",
        "xaxis": {
         "title": "<i>Number of nodes</i>",
         "type": "category"
        },
        "yaxis": {
         "title": "<i>Time Taken(sec)</i>"
        }
       }
      },
      "text/html": [
       "<div id=\"b81e0c69-b64f-4cba-84e8-846a55489328\" style=\"height: 525px; width: 100%;\" class=\"plotly-graph-div\"></div><script type=\"text/javascript\">require([\"plotly\"], function(Plotly) { window.PLOTLYENV=window.PLOTLYENV || {};window.PLOTLYENV.BASE_URL=\"https://plot.ly\";Plotly.newPlot(\"b81e0c69-b64f-4cba-84e8-846a55489328\", [{\"mode\": \"lines\", \"name\": \"First search in BST\", \"x\": [1000, 10000, 100000], \"y\": [0.0105, 0.09025, 0.947], \"type\": \"scatter\", \"uid\": \"0218f57d-9b99-43f9-83e5-9e915c085e2b\"}, {\"mode\": \"lines\", \"name\": \"Second search in BST\", \"x\": [1000, 10000, 100000], \"y\": [0.0105, 0.09275, 1.1], \"type\": \"scatter\", \"uid\": \"361e5669-99a2-41f4-864a-2ff4fdb1a764\"}, {\"mode\": \"lines\", \"name\": \"First search in Splay Tree\", \"x\": [1000, 10000, 100000, 1000000], \"y\": [0.024, 0.172, 1.538, 19.14], \"type\": \"scatter\", \"uid\": \"32414707-3c84-4d91-b695-44daf7d797c6\"}, {\"mode\": \"lines\", \"name\": \"Second search in Splay Tree\", \"x\": [1000, 10000, 100000, 1000000], \"y\": [0.0075, 0.007, 0.0075, 0.00625], \"type\": \"scatter\", \"uid\": \"36426788-3ca4-412f-a3ac-6999219e6b54\"}], {\"title\": \"<b>SEARCH IN SKEWED BUILT TREE</b>\", \"xaxis\": {\"title\": \"<i>Number of nodes</i>\", \"type\": \"category\"}, \"yaxis\": {\"title\": \"<i>Time Taken(sec)</i>\"}}, {\"showLink\": true, \"linkText\": \"Export to plot.ly\"})});</script><script type=\"text/javascript\">window.addEventListener(\"resize\", function(){Plotly.Plots.resize(document.getElementById(\"b81e0c69-b64f-4cba-84e8-846a55489328\"));});</script>"
      ],
      "text/vnd.plotly.v1+html": [
       "<div id=\"b81e0c69-b64f-4cba-84e8-846a55489328\" style=\"height: 525px; width: 100%;\" class=\"plotly-graph-div\"></div><script type=\"text/javascript\">require([\"plotly\"], function(Plotly) { window.PLOTLYENV=window.PLOTLYENV || {};window.PLOTLYENV.BASE_URL=\"https://plot.ly\";Plotly.newPlot(\"b81e0c69-b64f-4cba-84e8-846a55489328\", [{\"mode\": \"lines\", \"name\": \"First search in BST\", \"x\": [1000, 10000, 100000], \"y\": [0.0105, 0.09025, 0.947], \"type\": \"scatter\", \"uid\": \"0218f57d-9b99-43f9-83e5-9e915c085e2b\"}, {\"mode\": \"lines\", \"name\": \"Second search in BST\", \"x\": [1000, 10000, 100000], \"y\": [0.0105, 0.09275, 1.1], \"type\": \"scatter\", \"uid\": \"361e5669-99a2-41f4-864a-2ff4fdb1a764\"}, {\"mode\": \"lines\", \"name\": \"First search in Splay Tree\", \"x\": [1000, 10000, 100000, 1000000], \"y\": [0.024, 0.172, 1.538, 19.14], \"type\": \"scatter\", \"uid\": \"32414707-3c84-4d91-b695-44daf7d797c6\"}, {\"mode\": \"lines\", \"name\": \"Second search in Splay Tree\", \"x\": [1000, 10000, 100000, 1000000], \"y\": [0.0075, 0.007, 0.0075, 0.00625], \"type\": \"scatter\", \"uid\": \"36426788-3ca4-412f-a3ac-6999219e6b54\"}], {\"title\": \"<b>SEARCH IN SKEWED BUILT TREE</b>\", \"xaxis\": {\"title\": \"<i>Number of nodes</i>\", \"type\": \"category\"}, \"yaxis\": {\"title\": \"<i>Time Taken(sec)</i>\"}}, {\"showLink\": true, \"linkText\": \"Export to plot.ly\"})});</script><script type=\"text/javascript\">window.addEventListener(\"resize\", function(){Plotly.Plots.resize(document.getElementById(\"b81e0c69-b64f-4cba-84e8-846a55489328\"));});</script>"
      ]
     },
     "metadata": {},
     "output_type": "display_data"
    }
   ],
   "source": [
    "x2 = [1000,10000,100000,1000000]\n",
    "x1 = [1000,10000,100000]\n",
    "y1 = [10.5,90.25,947]\n",
    "y2 = [24,172,1538,19140]\n",
    "y3 = [10.5,92.75,1100]\n",
    "y4 = [7.5,7,7.5,6.25]\n",
    "y1 = [k/1000 for k in y1]\n",
    "y2 = [k/1000 for k in y2]\n",
    "y3 = [k/1000 for k in y3]\n",
    "y4 = [k/1000 for k in y4]\n",
    "layout = go.Layout(\n",
    "            title='<b>SEARCH IN SKEWED BUILT TREE</b>',\n",
    "            yaxis=dict(\n",
    "                title='<i>Time Taken(sec)</i>'\n",
    "            ),\n",
    "            xaxis=dict(\n",
    "                title='<i>Number of nodes</i>',\n",
    "                type='category'\n",
    "            )\n",
    "        )\n",
    "trace1 = go.Scatter(\n",
    "            x=x1,\n",
    "            y=y1,\n",
    "            mode='lines',\n",
    "            name='First search in BST'\n",
    "        )\n",
    "trace2 = go.Scatter(\n",
    "            x=x2,\n",
    "            y=y2,\n",
    "            mode='lines',\n",
    "            name='First search in Splay Tree'\n",
    "        )\n",
    "trace3 = go.Scatter(\n",
    "            x=x1,\n",
    "            y=y3,\n",
    "            mode='lines',\n",
    "            name='Second search in BST'\n",
    "        )\n",
    "trace4 = go.Scatter(\n",
    "            x=x2,\n",
    "            y=y4,\n",
    "            mode='lines',\n",
    "            name='Second search in Splay Tree'\n",
    "        )\n",
    "fig = go.Figure(data=[trace1,trace3,trace2,trace4], layout=layout)\n",
    "py.offline.iplot(fig)"
   ]
  },
  {
   "cell_type": "code",
   "execution_count": 56,
   "metadata": {},
   "outputs": [
    {
     "data": {
      "application/vnd.plotly.v1+json": {
       "data": [
        {
         "mode": "lines",
         "name": "First search in BST",
         "type": "scatter",
         "uid": "bafb09c7-56cc-4181-83d2-26260a7c86d4",
         "x": [
          1000,
          10000,
          100000
         ],
         "y": [
          0.0105,
          0.09025,
          0.947
         ]
        },
        {
         "mode": "lines",
         "name": "Second search in BST",
         "type": "scatter",
         "uid": "41a5706c-0a48-4494-a0c4-0a89c7311435",
         "x": [
          1000,
          10000,
          100000
         ],
         "y": [
          0.0105,
          0.09275,
          1.1
         ]
        },
        {
         "mode": "lines",
         "name": "First search in Splay Tree",
         "type": "scatter",
         "uid": "885a6478-8504-47da-8ec3-3e4c0aeeec6a",
         "x": [
          1000,
          10000,
          100000
         ],
         "y": [
          0.024,
          0.172,
          1.538
         ]
        },
        {
         "mode": "lines",
         "name": "Second search in Splay Tree",
         "type": "scatter",
         "uid": "db045358-7a7e-44bd-8f62-47fc1d57111f",
         "x": [
          1000,
          10000,
          100000
         ],
         "y": [
          0.0075,
          0.007,
          0.0075
         ]
        }
       ],
       "layout": {
        "title": "<b>SEARCH IN SKEWED BUILT TREE</b>",
        "xaxis": {
         "title": "<i>Number of nodes</i>",
         "type": "category"
        },
        "yaxis": {
         "title": "<i>Time Taken(sec)</i>"
        }
       }
      },
      "text/html": [
       "<div id=\"9c192539-8426-4f70-8d27-f11c1dfd27ec\" style=\"height: 525px; width: 100%;\" class=\"plotly-graph-div\"></div><script type=\"text/javascript\">require([\"plotly\"], function(Plotly) { window.PLOTLYENV=window.PLOTLYENV || {};window.PLOTLYENV.BASE_URL=\"https://plot.ly\";Plotly.newPlot(\"9c192539-8426-4f70-8d27-f11c1dfd27ec\", [{\"mode\": \"lines\", \"name\": \"First search in BST\", \"x\": [1000, 10000, 100000], \"y\": [0.0105, 0.09025, 0.947], \"type\": \"scatter\", \"uid\": \"bafb09c7-56cc-4181-83d2-26260a7c86d4\"}, {\"mode\": \"lines\", \"name\": \"Second search in BST\", \"x\": [1000, 10000, 100000], \"y\": [0.0105, 0.09275, 1.1], \"type\": \"scatter\", \"uid\": \"41a5706c-0a48-4494-a0c4-0a89c7311435\"}, {\"mode\": \"lines\", \"name\": \"First search in Splay Tree\", \"x\": [1000, 10000, 100000], \"y\": [0.024, 0.172, 1.538], \"type\": \"scatter\", \"uid\": \"885a6478-8504-47da-8ec3-3e4c0aeeec6a\"}, {\"mode\": \"lines\", \"name\": \"Second search in Splay Tree\", \"x\": [1000, 10000, 100000], \"y\": [0.0075, 0.007, 0.0075], \"type\": \"scatter\", \"uid\": \"db045358-7a7e-44bd-8f62-47fc1d57111f\"}], {\"title\": \"<b>SEARCH IN SKEWED BUILT TREE</b>\", \"xaxis\": {\"title\": \"<i>Number of nodes</i>\", \"type\": \"category\"}, \"yaxis\": {\"title\": \"<i>Time Taken(sec)</i>\"}}, {\"showLink\": true, \"linkText\": \"Export to plot.ly\"})});</script><script type=\"text/javascript\">window.addEventListener(\"resize\", function(){Plotly.Plots.resize(document.getElementById(\"9c192539-8426-4f70-8d27-f11c1dfd27ec\"));});</script>"
      ],
      "text/vnd.plotly.v1+html": [
       "<div id=\"9c192539-8426-4f70-8d27-f11c1dfd27ec\" style=\"height: 525px; width: 100%;\" class=\"plotly-graph-div\"></div><script type=\"text/javascript\">require([\"plotly\"], function(Plotly) { window.PLOTLYENV=window.PLOTLYENV || {};window.PLOTLYENV.BASE_URL=\"https://plot.ly\";Plotly.newPlot(\"9c192539-8426-4f70-8d27-f11c1dfd27ec\", [{\"mode\": \"lines\", \"name\": \"First search in BST\", \"x\": [1000, 10000, 100000], \"y\": [0.0105, 0.09025, 0.947], \"type\": \"scatter\", \"uid\": \"bafb09c7-56cc-4181-83d2-26260a7c86d4\"}, {\"mode\": \"lines\", \"name\": \"Second search in BST\", \"x\": [1000, 10000, 100000], \"y\": [0.0105, 0.09275, 1.1], \"type\": \"scatter\", \"uid\": \"41a5706c-0a48-4494-a0c4-0a89c7311435\"}, {\"mode\": \"lines\", \"name\": \"First search in Splay Tree\", \"x\": [1000, 10000, 100000], \"y\": [0.024, 0.172, 1.538], \"type\": \"scatter\", \"uid\": \"885a6478-8504-47da-8ec3-3e4c0aeeec6a\"}, {\"mode\": \"lines\", \"name\": \"Second search in Splay Tree\", \"x\": [1000, 10000, 100000], \"y\": [0.0075, 0.007, 0.0075], \"type\": \"scatter\", \"uid\": \"db045358-7a7e-44bd-8f62-47fc1d57111f\"}], {\"title\": \"<b>SEARCH IN SKEWED BUILT TREE</b>\", \"xaxis\": {\"title\": \"<i>Number of nodes</i>\", \"type\": \"category\"}, \"yaxis\": {\"title\": \"<i>Time Taken(sec)</i>\"}}, {\"showLink\": true, \"linkText\": \"Export to plot.ly\"})});</script><script type=\"text/javascript\">window.addEventListener(\"resize\", function(){Plotly.Plots.resize(document.getElementById(\"9c192539-8426-4f70-8d27-f11c1dfd27ec\"));});</script>"
      ]
     },
     "metadata": {},
     "output_type": "display_data"
    }
   ],
   "source": [
    "x2 = [1000,10000,100000]\n",
    "x1 = [1000,10000,100000]\n",
    "y1 = [10.5,90.25,947]\n",
    "y2 = [24,172,1538]\n",
    "y3 = [10.5,92.75,1100]\n",
    "y4 = [7.5,7,7.5]\n",
    "y1 = [k/1000 for k in y1]\n",
    "y2 = [k/1000 for k in y2]\n",
    "y3 = [k/1000 for k in y3]\n",
    "y4 = [k/1000 for k in y4]\n",
    "layout = go.Layout(\n",
    "            title='<b>SEARCH IN SKEWED BUILT TREE</b>',\n",
    "            yaxis=dict(\n",
    "                title='<i>Time Taken(sec)</i>'\n",
    "            ),\n",
    "            xaxis=dict(\n",
    "                title='<i>Number of nodes</i>',\n",
    "                type='category'\n",
    "            )\n",
    "        )\n",
    "trace1 = go.Scatter(\n",
    "            x=x1,\n",
    "            y=y1,\n",
    "            mode='lines',\n",
    "            name='First search in BST'\n",
    "        )\n",
    "trace2 = go.Scatter(\n",
    "            x=x2,\n",
    "            y=y2,\n",
    "            mode='lines',\n",
    "            name='First search in Splay Tree'\n",
    "        )\n",
    "trace3 = go.Scatter(\n",
    "            x=x1,\n",
    "            y=y3,\n",
    "            mode='lines',\n",
    "            name='Second search in BST'\n",
    "        )\n",
    "trace4 = go.Scatter(\n",
    "            x=x2,\n",
    "            y=y4,\n",
    "            mode='lines',\n",
    "            name='Second search in Splay Tree'\n",
    "        )\n",
    "fig = go.Figure(data=[trace1,trace3,trace2,trace4], layout=layout)\n",
    "py.offline.iplot(fig)"
   ]
  }
 ],
 "metadata": {
  "kernelspec": {
   "display_name": "Python 3",
   "language": "python",
   "name": "python3"
  },
  "language_info": {
   "codemirror_mode": {
    "name": "ipython",
    "version": 3
   },
   "file_extension": ".py",
   "mimetype": "text/x-python",
   "name": "python",
   "nbconvert_exporter": "python",
   "pygments_lexer": "ipython3",
   "version": "3.7.0"
  }
 },
 "nbformat": 4,
 "nbformat_minor": 2
}
